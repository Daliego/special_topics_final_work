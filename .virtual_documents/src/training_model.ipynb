


import pandas as pd
import numpy as np


df = pd.read_excel("./data/original_dados_aracau.ods", engine="odf")


formated_df = df.drop(columns=[''])


df.describe()


df[['Período Letivo', 'Periodo Letivo (Num)']].value_counts()


df[['É ingressante?', 'Fluxo Escolar - Label', 'Forma de Oferta (grupo)']].value_counts()



df[['É matrícula retida neste período letivo?', 'Última Alteração de Situação', 'Ingressantes em (Período Letivo)', 'Período Letivo da Mudança de Situação']].value_counts()
