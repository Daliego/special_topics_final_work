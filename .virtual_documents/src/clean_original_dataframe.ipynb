import pandas as pd
import numpy as np
from pandas import DataFrame
from pyexcel_ods import save_data
from collections import OrderedDict



# The empty dataframe

initial_df: DataFrame


# Save the file on the data, verifying before if its not overwriting something
try:
    initial_df = pd.read_excel("./data/original_data_aracau.ods", engine="odf")
except FileNotFoundError as error:
    print("The file already exist")
    raise Exception("The file already exist")




# Read the file with the original changes
# initial_df = pd.read_excel("./data/original_dados_aracau.ods", engine="odf")

initial_df


# Droped 10 collumns

formated_df = initial_df.drop(
    columns=[
        "Curso+Modalidade",
        "Modalidade de Ensino",

        "Município do Campus",
        "Campus",
        "Período Letivo",

        "Município, UF",
        "Nivel de Ensino - sem hierar",
        "É ingressante?",
        "É ingressante? (rótulo)",
        "Unnamed: 0",
    ]
)





formated_df


# count null values by column
nan_counts = formated_df.isna().sum()
nan_counts


# count null values per row and calculates the averageof null values per row
nan_counts_per_row = formated_df.isna().sum(axis=1)
nan_counts_per_row.describe()


formated_df_v2 = formated_df.drop(
    columns=[
        "Período Letivo da Mudança de Situação",
    ]
)


# count null values by column
nan_counts_v2 = formated_df_v2.isna().sum()
nan_counts_v2


# count null values per row and calculates the averageof null values per row
nan_counts_per_row_v2 = formated_df_v2.isna().sum(axis=1)
nan_counts_per_row_v2.describe()





formated_df = formated_df_v2.dropna()

df = formated_df


df.loc[df["Fluxo Escolar - Label"] == "Em Curso"]


in_course = df.loc[df["Fluxo Escolar - Label"] == "Em Curso"]
graduated = df.loc[df["Fluxo Escolar - Label"] == "Formados"]
dropout = df.loc[df["Fluxo Escolar - Label"] == "Evadidos"]
not_in_course = df.loc[df["Fluxo Escolar - Label"] != "Em Curso"]







# Save DataFrame on the data folder
df.to_excel("./data/data_for_training.ods")



