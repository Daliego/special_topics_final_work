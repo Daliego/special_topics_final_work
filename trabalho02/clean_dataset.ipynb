{
 "cells": [
  {
   "cell_type": "code",
   "execution_count": 1,
   "id": "d2124402-67a3-4ead-94c7-c62677bcc6ca",
   "metadata": {},
   "outputs": [],
   "source": [
    "# Bibliotecas utilizadas no projeto\n",
    "from sklearn.model_selection import train_test_split\n",
    "from sklearn.ensemble import RandomForestClassifier\n",
    "from sklearn.metrics import classification_report, confusion_matrix, accuracy_score\n",
    "from pandas import DataFrame\n",
    "import category_encoders as ce\n",
    "import seaborn as sns\n",
    "import matplotlib.pyplot as plt\n",
    "import pandas as pd\n",
    "import numpy as np"
   ]
  },
  {
   "cell_type": "code",
   "execution_count": 2,
   "id": "4aef3834-dc78-4039-b6e0-eaffb0ef4816",
   "metadata": {},
   "outputs": [],
   "source": [
    "df: DataFrame = pd.read_csv('./data/out_novo_dataset.csv', index_col=0)"
   ]
  },
  {
   "cell_type": "code",
   "execution_count": 3,
   "id": "f9dd1d79-1797-436b-a48e-7ff360474d62",
   "metadata": {},
   "outputs": [],
   "source": [
    "df = df.drop(\n",
    "    columns=[\n",
    "         \"Curso+Modalidade\",\n",
    "        \"Modalidade de Ensino\",\n",
    "\n",
    "        \"Município do Campus\",\n",
    "        \"Campus\",\n",
    "        \"Período Letivo\",\n",
    "\n",
    "        \"Município, UF\",\n",
    "        \"Nivel de Ensino - sem hierar\",\n",
    "        \"É ingressante?\",\n",
    "        \"É ingressante? (rótulo)\",\n",
    "        \"Unnamed: 0\",\n",
    "    ]\n",
    ")"
   ]
  },
  {
   "cell_type": "code",
   "execution_count": 4,
   "id": "72260051-c219-4057-9236-eb51ae3d5e1d",
   "metadata": {},
   "outputs": [
    {
     "data": {
      "text/plain": [
       "0                              Não possui\n",
       "1                      Ampla Concorrência\n",
       "2                              Não possui\n",
       "3                      Ampla Concorrência\n",
       "4       L2 Esc Publica, Renda<1.5sm, Raca\n",
       "                      ...                \n",
       "3905                   Ampla Concorrência\n",
       "3906                           Não possui\n",
       "3907                                  NaN\n",
       "3908         L5 Esc Publica, Indep. Renda\n",
       "3909                           Não possui\n",
       "Name: Reserva vaga, Length: 10452, dtype: object"
      ]
     },
     "execution_count": 4,
     "metadata": {},
     "output_type": "execute_result"
    }
   ],
   "source": [
    "df['Reserva vaga']"
   ]
  },
  {
   "cell_type": "code",
   "execution_count": 5,
   "id": "9e7ab4b4-3d7b-4a06-98e4-a8c5abaa278a",
   "metadata": {},
   "outputs": [
    {
     "data": {
      "text/plain": [
       "Reserva vaga                                1972\n",
       "Num Seq deste Período Letivo                   0\n",
       "Periodos Cursados                              0\n",
       "Data Última Alteração Matrícula                0\n",
       "Nível de Ensino                                0\n",
       "Previsão de Término (Letivo)                   0\n",
       "Tipo_Escola_Origem                          1083\n",
       "Fluxo Escolar - Label                          0\n",
       "Dt Ref Início Matrícula                        0\n",
       "Idade (Hoje)                                   0\n",
       "Matrícula retida?                              0\n",
       "Cód. da Matriz                                 0\n",
       "Etnia                                          0\n",
       "Periodo Letivo (Num)                           0\n",
       "Última Alteração de Situação                   0\n",
       "CH. Disc. Obrigatórias                         0\n",
       "Dt Ref Início Período Letivo                   0\n",
       "Forma de Oferta (grupo)                        0\n",
       "Ingressantes em  (Ano Letivo)                  0\n",
       "Modalidade do Curso                            0\n",
       "Estado Aluno                                 205\n",
       "Cód. do Curso                                  0\n",
       "Data Início Período                           15\n",
       "Forma de Ingresso                              0\n",
       "Faixa Etária                                   0\n",
       "Sexo                                           0\n",
       "Data Final Período                            14\n",
       "Ingressantes em (Período Letivo)               0\n",
       "Duracao curso                                  0\n",
       "CH. Disc. Optativas                            0\n",
       "Período Letivo da Mudança de Situação       5247\n",
       "Tipo de Modalidade                           996\n",
       "Tipo de Modalidade (grupo)                   996\n",
       "Estrutura Etária                               0\n",
       "CH                                             0\n",
       "Campus (Nome)                                  0\n",
       "É matrícula retida neste período letivo?       0\n",
       "Cidade Aluno                                 205\n",
       "dtype: int64"
      ]
     },
     "execution_count": 5,
     "metadata": {},
     "output_type": "execute_result"
    }
   ],
   "source": [
    "nan_counts = df.isna().sum()\n",
    "nan_counts"
   ]
  },
  {
   "cell_type": "code",
   "execution_count": 6,
   "id": "689abad8-5451-459e-97d9-49ca9d2899cb",
   "metadata": {},
   "outputs": [
    {
     "data": {
      "text/plain": [
       "count    10452.000000\n",
       "mean         1.026885\n",
       "std          0.948560\n",
       "min          0.000000\n",
       "25%          0.000000\n",
       "50%          1.000000\n",
       "75%          1.000000\n",
       "max          6.000000\n",
       "dtype: float64"
      ]
     },
     "execution_count": 6,
     "metadata": {},
     "output_type": "execute_result"
    }
   ],
   "source": [
    "nan_counts_per_row = df.isna().sum(axis=1)\n",
    "nan_counts_per_row.describe()"
   ]
  },
  {
   "cell_type": "code",
   "execution_count": 7,
   "id": "845b5e4f-347f-4c80-bb0d-a87e7ec8561f",
   "metadata": {},
   "outputs": [],
   "source": [
    "# O critério foi abaixo de 1200 NaN, não vou mexer\n",
    "df = df.drop(\n",
    "    columns=[\n",
    "        # \"Reserva vaga\",\n",
    "        \"Período Letivo da Mudança de Situação\"                           \n",
    "    ]\n",
    ")"
   ]
  },
  {
   "cell_type": "code",
   "execution_count": 8,
   "id": "fb995252-be57-4e6a-9052-2bbde196999e",
   "metadata": {},
   "outputs": [
    {
     "data": {
      "text/plain": [
       "Reserva vaga                                 8480\n",
       "Num Seq deste Período Letivo                10452\n",
       "Periodos Cursados                           10452\n",
       "Data Última Alteração Matrícula             10452\n",
       "Nível de Ensino                             10452\n",
       "Previsão de Término (Letivo)                10452\n",
       "Tipo_Escola_Origem                           9369\n",
       "Fluxo Escolar - Label                       10452\n",
       "Dt Ref Início Matrícula                     10452\n",
       "Idade (Hoje)                                10452\n",
       "Matrícula retida?                           10452\n",
       "Cód. da Matriz                              10452\n",
       "Etnia                                       10452\n",
       "Periodo Letivo (Num)                        10452\n",
       "Última Alteração de Situação                10452\n",
       "CH. Disc. Obrigatórias                      10452\n",
       "Dt Ref Início Período Letivo                10452\n",
       "Forma de Oferta (grupo)                     10452\n",
       "Ingressantes em  (Ano Letivo)               10452\n",
       "Modalidade do Curso                         10452\n",
       "Estado Aluno                                10247\n",
       "Cód. do Curso                               10452\n",
       "Data Início Período                         10437\n",
       "Forma de Ingresso                           10452\n",
       "Faixa Etária                                10452\n",
       "Sexo                                        10452\n",
       "Data Final Período                          10438\n",
       "Ingressantes em (Período Letivo)            10452\n",
       "Duracao curso                               10452\n",
       "CH. Disc. Optativas                         10452\n",
       "Tipo de Modalidade                           9456\n",
       "Tipo de Modalidade (grupo)                   9456\n",
       "Estrutura Etária                            10452\n",
       "CH                                          10452\n",
       "Campus (Nome)                               10452\n",
       "É matrícula retida neste período letivo?    10452\n",
       "Cidade Aluno                                10247\n",
       "dtype: int64"
      ]
     },
     "execution_count": 8,
     "metadata": {},
     "output_type": "execute_result"
    }
   ],
   "source": [
    "df.count()"
   ]
  },
  {
   "cell_type": "code",
   "execution_count": 9,
   "id": "90893f6b-68f8-4860-a4e8-14d01bee3f07",
   "metadata": {},
   "outputs": [
    {
     "data": {
      "text/plain": [
       "Reserva vaga                                6749\n",
       "Num Seq deste Período Letivo                6749\n",
       "Periodos Cursados                           6749\n",
       "Data Última Alteração Matrícula             6749\n",
       "Nível de Ensino                             6749\n",
       "Previsão de Término (Letivo)                6749\n",
       "Tipo_Escola_Origem                          6749\n",
       "Fluxo Escolar - Label                       6749\n",
       "Dt Ref Início Matrícula                     6749\n",
       "Idade (Hoje)                                6749\n",
       "Matrícula retida?                           6749\n",
       "Cód. da Matriz                              6749\n",
       "Etnia                                       6749\n",
       "Periodo Letivo (Num)                        6749\n",
       "Última Alteração de Situação                6749\n",
       "CH. Disc. Obrigatórias                      6749\n",
       "Dt Ref Início Período Letivo                6749\n",
       "Forma de Oferta (grupo)                     6749\n",
       "Ingressantes em  (Ano Letivo)               6749\n",
       "Modalidade do Curso                         6749\n",
       "Estado Aluno                                6749\n",
       "Cód. do Curso                               6749\n",
       "Data Início Período                         6749\n",
       "Forma de Ingresso                           6749\n",
       "Faixa Etária                                6749\n",
       "Sexo                                        6749\n",
       "Data Final Período                          6749\n",
       "Ingressantes em (Período Letivo)            6749\n",
       "Duracao curso                               6749\n",
       "CH. Disc. Optativas                         6749\n",
       "Tipo de Modalidade                          6749\n",
       "Tipo de Modalidade (grupo)                  6749\n",
       "Estrutura Etária                            6749\n",
       "CH                                          6749\n",
       "Campus (Nome)                               6749\n",
       "É matrícula retida neste período letivo?    6749\n",
       "Cidade Aluno                                6749\n",
       "dtype: int64"
      ]
     },
     "execution_count": 9,
     "metadata": {},
     "output_type": "execute_result"
    }
   ],
   "source": [
    "df = df.dropna()\n",
    "df.count()"
   ]
  },
  {
   "cell_type": "code",
   "execution_count": 10,
   "id": "b6d22120-aa61-4700-980a-6bec6ba681cc",
   "metadata": {},
   "outputs": [],
   "source": [
    "graduated = df.loc[df[\"Fluxo Escolar - Label\"] == \"Formados\"]\n",
    "dropout = df.loc[df[\"Fluxo Escolar - Label\"] == \"Evadidos\"]"
   ]
  },
  {
   "cell_type": "code",
   "execution_count": 11,
   "id": "f9b5a83a-db1d-4498-b19e-d6e4b28bcbfe",
   "metadata": {},
   "outputs": [
    {
     "data": {
      "text/plain": [
       "Reserva vaga                                3762\n",
       "Num Seq deste Período Letivo                3762\n",
       "Periodos Cursados                           3762\n",
       "Data Última Alteração Matrícula             3762\n",
       "Nível de Ensino                             3762\n",
       "Previsão de Término (Letivo)                3762\n",
       "Tipo_Escola_Origem                          3762\n",
       "Fluxo Escolar - Label                       3762\n",
       "Dt Ref Início Matrícula                     3762\n",
       "Idade (Hoje)                                3762\n",
       "Matrícula retida?                           3762\n",
       "Cód. da Matriz                              3762\n",
       "Etnia                                       3762\n",
       "Periodo Letivo (Num)                        3762\n",
       "Última Alteração de Situação                3762\n",
       "CH. Disc. Obrigatórias                      3762\n",
       "Dt Ref Início Período Letivo                3762\n",
       "Forma de Oferta (grupo)                     3762\n",
       "Ingressantes em  (Ano Letivo)               3762\n",
       "Modalidade do Curso                         3762\n",
       "Estado Aluno                                3762\n",
       "Cód. do Curso                               3762\n",
       "Data Início Período                         3762\n",
       "Forma de Ingresso                           3762\n",
       "Faixa Etária                                3762\n",
       "Sexo                                        3762\n",
       "Data Final Período                          3762\n",
       "Ingressantes em (Período Letivo)            3762\n",
       "Duracao curso                               3762\n",
       "CH. Disc. Optativas                         3762\n",
       "Tipo de Modalidade                          3762\n",
       "Tipo de Modalidade (grupo)                  3762\n",
       "Estrutura Etária                            3762\n",
       "CH                                          3762\n",
       "Campus (Nome)                               3762\n",
       "É matrícula retida neste período letivo?    3762\n",
       "Cidade Aluno                                3762\n",
       "dtype: int64"
      ]
     },
     "execution_count": 11,
     "metadata": {},
     "output_type": "execute_result"
    }
   ],
   "source": [
    "df = pd.concat([graduated, dropout])\n",
    "df.count()"
   ]
  },
  {
   "cell_type": "code",
   "execution_count": 12,
   "id": "01f7dbfc-9eb7-4acd-9229-de0e03045e42",
   "metadata": {},
   "outputs": [],
   "source": [
    "df.to_csv(\"output/refatorado_dataset.csv\")"
   ]
  }
 ],
 "metadata": {
  "kernelspec": {
   "display_name": "Python 3 (ipykernel)",
   "language": "python",
   "name": "python3"
  },
  "language_info": {
   "codemirror_mode": {
    "name": "ipython",
    "version": 3
   },
   "file_extension": ".py",
   "mimetype": "text/x-python",
   "name": "python",
   "nbconvert_exporter": "python",
   "pygments_lexer": "ipython3",
   "version": "3.10.12"
  }
 },
 "nbformat": 4,
 "nbformat_minor": 5
}
