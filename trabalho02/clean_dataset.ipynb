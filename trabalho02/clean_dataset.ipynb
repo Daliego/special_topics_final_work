{
 "cells": [
  {
   "cell_type": "code",
   "execution_count": 150,
   "id": "d2124402-67a3-4ead-94c7-c62677bcc6ca",
   "metadata": {},
   "outputs": [],
   "source": [
    "# Bibliotecas utilizadas no projeto\n",
    "from sklearn.model_selection import train_test_split\n",
    "from sklearn.ensemble import RandomForestClassifier\n",
    "from sklearn.metrics import classification_report, confusion_matrix, accuracy_score\n",
    "from pandas import DataFrame\n",
    "import category_encoders as ce\n",
    "import seaborn as sns\n",
    "import matplotlib.pyplot as plt\n",
    "import pandas as pd\n",
    "import numpy as np"
   ]
  },
  {
   "cell_type": "code",
   "execution_count": 151,
   "id": "4aef3834-dc78-4039-b6e0-eaffb0ef4816",
   "metadata": {},
   "outputs": [],
   "source": [
    "df: DataFrame = pd.read_csv('./data/out_novo_dataset.csv', index_col=0)"
   ]
  },
  {
   "cell_type": "code",
   "execution_count": 152,
   "id": "f9dd1d79-1797-436b-a48e-7ff360474d62",
   "metadata": {},
   "outputs": [],
   "source": [
    "df = df.drop(\n",
    "    columns=[\n",
    "         \"Curso+Modalidade\",\n",
    "        \"Modalidade de Ensino\",\n",
    "\n",
    "        \"Município do Campus\",\n",
    "        \"Campus\",\n",
    "        \"Período Letivo\",\n",
    "\n",
    "        \"Município, UF\",\n",
    "        \"Nivel de Ensino - sem hierar\",\n",
    "        \"É ingressante?\",\n",
    "        \"É ingressante? (rótulo)\",\n",
    "        \"Unnamed: 0\",\n",
    "    ]\n",
    ")"
   ]
  },
  {
   "cell_type": "code",
   "execution_count": 153,
   "id": "72260051-c219-4057-9236-eb51ae3d5e1d",
   "metadata": {},
   "outputs": [
    {
     "data": {
      "text/plain": [
       "0                              Não possui\n",
       "1                      Ampla Concorrência\n",
       "2                              Não possui\n",
       "3                      Ampla Concorrência\n",
       "4       L2 Esc Publica, Renda<1.5sm, Raca\n",
       "                      ...                \n",
       "3905                   Ampla Concorrência\n",
       "3906                           Não possui\n",
       "3907                                  NaN\n",
       "3908         L5 Esc Publica, Indep. Renda\n",
       "3909                           Não possui\n",
       "Name: Reserva vaga, Length: 10452, dtype: object"
      ]
     },
     "execution_count": 153,
     "metadata": {},
     "output_type": "execute_result"
    }
   ],
   "source": [
    "df['Reserva vaga']"
   ]
  },
  {
   "cell_type": "code",
   "execution_count": 154,
   "id": "c2312a0c",
   "metadata": {},
   "outputs": [
    {
     "data": {
      "text/plain": [
       "Reserva vaga                                4763\n",
       "Num Seq deste Período Letivo                6671\n",
       "Periodos Cursados                           6671\n",
       "Data Última Alteração Matrícula             6671\n",
       "Nível de Ensino                             6671\n",
       "Previsão de Término (Letivo)                6671\n",
       "Tipo_Escola_Origem                          6103\n",
       "Fluxo Escolar - Label                       6671\n",
       "Dt Ref Início Matrícula                     6671\n",
       "Idade (Hoje)                                6671\n",
       "Matrícula retida?                           6671\n",
       "Cód. da Matriz                              6671\n",
       "Etnia                                       6671\n",
       "Periodo Letivo (Num)                        6671\n",
       "Última Alteração de Situação                6671\n",
       "CH. Disc. Obrigatórias                      6671\n",
       "Dt Ref Início Período Letivo                6671\n",
       "Forma de Oferta (grupo)                     6671\n",
       "Ingressantes em  (Ano Letivo)               6671\n",
       "Modalidade do Curso                         6671\n",
       "Estado Aluno                                6538\n",
       "Cód. do Curso                               6671\n",
       "Data Início Período                         6659\n",
       "Forma de Ingresso                           6671\n",
       "Faixa Etária                                6671\n",
       "Sexo                                        6671\n",
       "Data Final Período                          6660\n",
       "Ingressantes em (Período Letivo)            6671\n",
       "Duracao curso                               6671\n",
       "CH. Disc. Optativas                         6671\n",
       "Período Letivo da Mudança de Situação       4313\n",
       "Tipo de Modalidade                          6012\n",
       "Tipo de Modalidade (grupo)                  6012\n",
       "Estrutura Etária                            6671\n",
       "CH                                          6671\n",
       "Campus (Nome)                               6671\n",
       "É matrícula retida neste período letivo?    6671\n",
       "Cidade Aluno                                6538\n",
       "dtype: int64"
      ]
     },
     "execution_count": 154,
     "metadata": {},
     "output_type": "execute_result"
    }
   ],
   "source": [
    "df = df.loc[df[\"Fluxo Escolar - Label\"].isin([\"Formados\", \"Evadidos\"])]\n",
    "df.count()"
   ]
  },
  {
   "cell_type": "code",
   "execution_count": 155,
   "id": "9e7ab4b4-3d7b-4a06-98e4-a8c5abaa278a",
   "metadata": {},
   "outputs": [
    {
     "data": {
      "text/plain": [
       "Reserva vaga                                1908\n",
       "Num Seq deste Período Letivo                   0\n",
       "Periodos Cursados                              0\n",
       "Data Última Alteração Matrícula                0\n",
       "Nível de Ensino                                0\n",
       "Previsão de Término (Letivo)                   0\n",
       "Tipo_Escola_Origem                           568\n",
       "Fluxo Escolar - Label                          0\n",
       "Dt Ref Início Matrícula                        0\n",
       "Idade (Hoje)                                   0\n",
       "Matrícula retida?                              0\n",
       "Cód. da Matriz                                 0\n",
       "Etnia                                          0\n",
       "Periodo Letivo (Num)                           0\n",
       "Última Alteração de Situação                   0\n",
       "CH. Disc. Obrigatórias                         0\n",
       "Dt Ref Início Período Letivo                   0\n",
       "Forma de Oferta (grupo)                        0\n",
       "Ingressantes em  (Ano Letivo)                  0\n",
       "Modalidade do Curso                            0\n",
       "Estado Aluno                                 133\n",
       "Cód. do Curso                                  0\n",
       "Data Início Período                           12\n",
       "Forma de Ingresso                              0\n",
       "Faixa Etária                                   0\n",
       "Sexo                                           0\n",
       "Data Final Período                            11\n",
       "Ingressantes em (Período Letivo)               0\n",
       "Duracao curso                                  0\n",
       "CH. Disc. Optativas                            0\n",
       "Período Letivo da Mudança de Situação       2358\n",
       "Tipo de Modalidade                           659\n",
       "Tipo de Modalidade (grupo)                   659\n",
       "Estrutura Etária                               0\n",
       "CH                                             0\n",
       "Campus (Nome)                                  0\n",
       "É matrícula retida neste período letivo?       0\n",
       "Cidade Aluno                                 133\n",
       "dtype: int64"
      ]
     },
     "execution_count": 155,
     "metadata": {},
     "output_type": "execute_result"
    }
   ],
   "source": [
    "nan_counts = df.isna().sum()\n",
    "nan_counts"
   ]
  },
  {
   "cell_type": "code",
   "execution_count": 156,
   "id": "689abad8-5451-459e-97d9-49ca9d2899cb",
   "metadata": {},
   "outputs": [
    {
     "data": {
      "text/plain": [
       "count    6671.000000\n",
       "mean        0.965522\n",
       "std         0.956009\n",
       "min         0.000000\n",
       "25%         0.000000\n",
       "50%         1.000000\n",
       "75%         1.000000\n",
       "max         6.000000\n",
       "dtype: float64"
      ]
     },
     "execution_count": 156,
     "metadata": {},
     "output_type": "execute_result"
    }
   ],
   "source": [
    "nan_counts_per_row = df.isna().sum(axis=1)\n",
    "nan_counts_per_row.describe()"
   ]
  },
  {
   "cell_type": "code",
   "execution_count": 157,
   "id": "845b5e4f-347f-4c80-bb0d-a87e7ec8561f",
   "metadata": {},
   "outputs": [],
   "source": [
    "df = df.drop(\n",
    "    columns=[\n",
    "        \"Reserva vaga\",\n",
    "        \"Período Letivo da Mudança de Situação\",\n",
    "    ]\n",
    ")"
   ]
  },
  {
   "cell_type": "code",
   "execution_count": 158,
   "id": "fb995252-be57-4e6a-9052-2bbde196999e",
   "metadata": {},
   "outputs": [
    {
     "data": {
      "text/plain": [
       "6671"
      ]
     },
     "execution_count": 158,
     "metadata": {},
     "output_type": "execute_result"
    }
   ],
   "source": [
    "len(df)"
   ]
  },
  {
   "cell_type": "code",
   "execution_count": 159,
   "id": "92212a59",
   "metadata": {},
   "outputs": [
    {
     "data": {
      "text/plain": [
       "Num Seq deste Período Letivo                  0\n",
       "Periodos Cursados                             0\n",
       "Data Última Alteração Matrícula               0\n",
       "Nível de Ensino                               0\n",
       "Previsão de Término (Letivo)                  0\n",
       "Tipo_Escola_Origem                          568\n",
       "Fluxo Escolar - Label                         0\n",
       "Dt Ref Início Matrícula                       0\n",
       "Idade (Hoje)                                  0\n",
       "Matrícula retida?                             0\n",
       "Cód. da Matriz                                0\n",
       "Etnia                                         0\n",
       "Periodo Letivo (Num)                          0\n",
       "Última Alteração de Situação                  0\n",
       "CH. Disc. Obrigatórias                        0\n",
       "Dt Ref Início Período Letivo                  0\n",
       "Forma de Oferta (grupo)                       0\n",
       "Ingressantes em  (Ano Letivo)                 0\n",
       "Modalidade do Curso                           0\n",
       "Estado Aluno                                133\n",
       "Cód. do Curso                                 0\n",
       "Data Início Período                          12\n",
       "Forma de Ingresso                             0\n",
       "Faixa Etária                                  0\n",
       "Sexo                                          0\n",
       "Data Final Período                           11\n",
       "Ingressantes em (Período Letivo)              0\n",
       "Duracao curso                                 0\n",
       "CH. Disc. Optativas                           0\n",
       "Tipo de Modalidade                          659\n",
       "Tipo de Modalidade (grupo)                  659\n",
       "Estrutura Etária                              0\n",
       "CH                                            0\n",
       "Campus (Nome)                                 0\n",
       "É matrícula retida neste período letivo?      0\n",
       "Cidade Aluno                                133\n",
       "dtype: int64"
      ]
     },
     "execution_count": 159,
     "metadata": {},
     "output_type": "execute_result"
    }
   ],
   "source": [
    "nan_counts = df.isna().sum()\n",
    "nan_counts"
   ]
  },
  {
   "cell_type": "code",
   "execution_count": 160,
   "id": "bfdc7f54",
   "metadata": {},
   "outputs": [
    {
     "data": {
      "text/plain": [
       "2175"
      ]
     },
     "execution_count": 160,
     "metadata": {},
     "output_type": "execute_result"
    }
   ],
   "source": [
    "sum(nan_counts.values)"
   ]
  },
  {
   "cell_type": "code",
   "execution_count": 161,
   "id": "98f14f0f",
   "metadata": {},
   "outputs": [
    {
     "data": {
      "text/plain": [
       "16.3393794033878"
      ]
     },
     "execution_count": 161,
     "metadata": {},
     "output_type": "execute_result"
    }
   ],
   "source": [
    "(len(df[df['Tipo_Escola_Origem'].isna() | df['Tipo de Modalidade'].isna()]) / len(df)) * 100"
   ]
  },
  {
   "cell_type": "code",
   "execution_count": 162,
   "id": "0469ea89",
   "metadata": {},
   "outputs": [
    {
     "data": {
      "text/plain": [
       "6012"
      ]
     },
     "execution_count": 162,
     "metadata": {},
     "output_type": "execute_result"
    }
   ],
   "source": [
    "df = df.dropna(subset=['Tipo de Modalidade'])\n",
    "len(df)"
   ]
  },
  {
   "cell_type": "code",
   "execution_count": 163,
   "id": "aca263ec",
   "metadata": {},
   "outputs": [
    {
     "data": {
      "text/plain": [
       "Num Seq deste Período Letivo                  0\n",
       "Periodos Cursados                             0\n",
       "Data Última Alteração Matrícula               0\n",
       "Nível de Ensino                               0\n",
       "Previsão de Término (Letivo)                  0\n",
       "Tipo_Escola_Origem                          431\n",
       "Fluxo Escolar - Label                         0\n",
       "Dt Ref Início Matrícula                       0\n",
       "Idade (Hoje)                                  0\n",
       "Matrícula retida?                             0\n",
       "Cód. da Matriz                                0\n",
       "Etnia                                         0\n",
       "Periodo Letivo (Num)                          0\n",
       "Última Alteração de Situação                  0\n",
       "CH. Disc. Obrigatórias                        0\n",
       "Dt Ref Início Período Letivo                  0\n",
       "Forma de Oferta (grupo)                       0\n",
       "Ingressantes em  (Ano Letivo)                 0\n",
       "Modalidade do Curso                           0\n",
       "Estado Aluno                                113\n",
       "Cód. do Curso                                 0\n",
       "Data Início Período                          12\n",
       "Forma de Ingresso                             0\n",
       "Faixa Etária                                  0\n",
       "Sexo                                          0\n",
       "Data Final Período                           11\n",
       "Ingressantes em (Período Letivo)              0\n",
       "Duracao curso                                 0\n",
       "CH. Disc. Optativas                           0\n",
       "Tipo de Modalidade                            0\n",
       "Tipo de Modalidade (grupo)                    0\n",
       "Estrutura Etária                              0\n",
       "CH                                            0\n",
       "Campus (Nome)                                 0\n",
       "É matrícula retida neste período letivo?      0\n",
       "Cidade Aluno                                113\n",
       "dtype: int64"
      ]
     },
     "execution_count": 163,
     "metadata": {},
     "output_type": "execute_result"
    }
   ],
   "source": [
    "nan_counts = df.isna().sum()\n",
    "nan_counts"
   ]
  },
  {
   "cell_type": "code",
   "execution_count": 164,
   "id": "90893f6b-68f8-4860-a4e8-14d01bee3f07",
   "metadata": {},
   "outputs": [
    {
     "data": {
      "text/plain": [
       "Num Seq deste Período Letivo                5498\n",
       "Periodos Cursados                           5498\n",
       "Data Última Alteração Matrícula             5498\n",
       "Nível de Ensino                             5498\n",
       "Previsão de Término (Letivo)                5498\n",
       "Tipo_Escola_Origem                          5498\n",
       "Fluxo Escolar - Label                       5498\n",
       "Dt Ref Início Matrícula                     5498\n",
       "Idade (Hoje)                                5498\n",
       "Matrícula retida?                           5498\n",
       "Cód. da Matriz                              5498\n",
       "Etnia                                       5498\n",
       "Periodo Letivo (Num)                        5498\n",
       "Última Alteração de Situação                5498\n",
       "CH. Disc. Obrigatórias                      5498\n",
       "Dt Ref Início Período Letivo                5498\n",
       "Forma de Oferta (grupo)                     5498\n",
       "Ingressantes em  (Ano Letivo)               5498\n",
       "Modalidade do Curso                         5498\n",
       "Estado Aluno                                5498\n",
       "Cód. do Curso                               5498\n",
       "Data Início Período                         5498\n",
       "Forma de Ingresso                           5498\n",
       "Faixa Etária                                5498\n",
       "Sexo                                        5498\n",
       "Data Final Período                          5498\n",
       "Ingressantes em (Período Letivo)            5498\n",
       "Duracao curso                               5498\n",
       "CH. Disc. Optativas                         5498\n",
       "Tipo de Modalidade                          5498\n",
       "Tipo de Modalidade (grupo)                  5498\n",
       "Estrutura Etária                            5498\n",
       "CH                                          5498\n",
       "Campus (Nome)                               5498\n",
       "É matrícula retida neste período letivo?    5498\n",
       "Cidade Aluno                                5498\n",
       "dtype: int64"
      ]
     },
     "execution_count": 164,
     "metadata": {},
     "output_type": "execute_result"
    }
   ],
   "source": [
    "df = df.dropna()\n",
    "df.count()"
   ]
  },
  {
   "cell_type": "code",
   "execution_count": 165,
   "id": "b6d22120-aa61-4700-980a-6bec6ba681cc",
   "metadata": {},
   "outputs": [],
   "source": [
    "graduated = df.loc[df[\"Fluxo Escolar - Label\"] == \"Formados\"]\n",
    "dropout = df.loc[df[\"Fluxo Escolar - Label\"] == \"Evadidos\"]"
   ]
  },
  {
   "cell_type": "code",
   "execution_count": 166,
   "id": "f9b5a83a-db1d-4498-b19e-d6e4b28bcbfe",
   "metadata": {},
   "outputs": [
    {
     "data": {
      "text/plain": [
       "Num Seq deste Período Letivo                5498\n",
       "Periodos Cursados                           5498\n",
       "Data Última Alteração Matrícula             5498\n",
       "Nível de Ensino                             5498\n",
       "Previsão de Término (Letivo)                5498\n",
       "Tipo_Escola_Origem                          5498\n",
       "Fluxo Escolar - Label                       5498\n",
       "Dt Ref Início Matrícula                     5498\n",
       "Idade (Hoje)                                5498\n",
       "Matrícula retida?                           5498\n",
       "Cód. da Matriz                              5498\n",
       "Etnia                                       5498\n",
       "Periodo Letivo (Num)                        5498\n",
       "Última Alteração de Situação                5498\n",
       "CH. Disc. Obrigatórias                      5498\n",
       "Dt Ref Início Período Letivo                5498\n",
       "Forma de Oferta (grupo)                     5498\n",
       "Ingressantes em  (Ano Letivo)               5498\n",
       "Modalidade do Curso                         5498\n",
       "Estado Aluno                                5498\n",
       "Cód. do Curso                               5498\n",
       "Data Início Período                         5498\n",
       "Forma de Ingresso                           5498\n",
       "Faixa Etária                                5498\n",
       "Sexo                                        5498\n",
       "Data Final Período                          5498\n",
       "Ingressantes em (Período Letivo)            5498\n",
       "Duracao curso                               5498\n",
       "CH. Disc. Optativas                         5498\n",
       "Tipo de Modalidade                          5498\n",
       "Tipo de Modalidade (grupo)                  5498\n",
       "Estrutura Etária                            5498\n",
       "CH                                          5498\n",
       "Campus (Nome)                               5498\n",
       "É matrícula retida neste período letivo?    5498\n",
       "Cidade Aluno                                5498\n",
       "dtype: int64"
      ]
     },
     "execution_count": 166,
     "metadata": {},
     "output_type": "execute_result"
    }
   ],
   "source": [
    "df = pd.concat([graduated, dropout])\n",
    "df.count()"
   ]
  },
  {
   "cell_type": "code",
   "execution_count": 167,
   "id": "01f7dbfc-9eb7-4acd-9229-de0e03045e42",
   "metadata": {},
   "outputs": [],
   "source": [
    "df.to_csv(\"output/refatorado_dataset.csv\")"
   ]
  }
 ],
 "metadata": {
  "kernelspec": {
   "display_name": "Python 3 (ipykernel)",
   "language": "python",
   "name": "python3"
  },
  "language_info": {
   "codemirror_mode": {
    "name": "ipython",
    "version": 3
   },
   "file_extension": ".py",
   "mimetype": "text/x-python",
   "name": "python",
   "nbconvert_exporter": "python",
   "pygments_lexer": "ipython3",
   "version": "3.11.3"
  }
 },
 "nbformat": 4,
 "nbformat_minor": 5
}
