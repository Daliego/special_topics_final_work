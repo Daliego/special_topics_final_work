{
 "cells": [
  {
   "cell_type": "code",
   "execution_count": 1,
   "id": "43968b20-465d-4c00-8c1d-8e1420df5c81",
   "metadata": {},
   "outputs": [],
   "source": [
    "import category_encoders as ce\n",
    "from sklearn.model_selection import train_test_split\n",
    "import pandas as pd"
   ]
  },
  {
   "cell_type": "code",
   "execution_count": 2,
   "id": "7d39c889-a08b-4f06-96a9-8030d0395e23",
   "metadata": {},
   "outputs": [],
   "source": [
    "\n",
    "df = pd.DataFrame({\n",
    "    'animal': ['cachorro', 'elefante', 'galinha', 'leao', 'ser humano', 'cachorro', 'gato', 'ser humano', 'elefante', 'pardal', 'macaco', 'cachorro'],\n",
    "    'locomocao' : ['quadrupede', 'quadrupede','bipede',  'quadrupede', 'bipede',  'quadrupede',  'quadrupede', 'bipede', 'quadrupede', 'bipede', 'bipede', 'quadrupede'],\n",
    "    'target': [0, 0, 1, 0, 0, 0, 0, 0, 0, 1, 0, 0]\n",
    "})\n"
   ]
  },
  {
   "cell_type": "code",
   "execution_count": 8,
   "id": "ee2e83ce-36af-4256-b8bf-42e00071575c",
   "metadata": {},
   "outputs": [
    {
     "data": {
      "text/html": [
       "<div>\n",
       "<style scoped>\n",
       "    .dataframe tbody tr th:only-of-type {\n",
       "        vertical-align: middle;\n",
       "    }\n",
       "\n",
       "    .dataframe tbody tr th {\n",
       "        vertical-align: top;\n",
       "    }\n",
       "\n",
       "    .dataframe thead th {\n",
       "        text-align: right;\n",
       "    }\n",
       "</style>\n",
       "<table border=\"1\" class=\"dataframe\">\n",
       "  <thead>\n",
       "    <tr style=\"text-align: right;\">\n",
       "      <th></th>\n",
       "      <th>animal</th>\n",
       "      <th>locomocao</th>\n",
       "      <th>target</th>\n",
       "    </tr>\n",
       "  </thead>\n",
       "  <tbody>\n",
       "    <tr>\n",
       "      <th>0</th>\n",
       "      <td>cachorro</td>\n",
       "      <td>quadrupede</td>\n",
       "      <td>0</td>\n",
       "    </tr>\n",
       "    <tr>\n",
       "      <th>1</th>\n",
       "      <td>elefante</td>\n",
       "      <td>quadrupede</td>\n",
       "      <td>0</td>\n",
       "    </tr>\n",
       "    <tr>\n",
       "      <th>2</th>\n",
       "      <td>galinha</td>\n",
       "      <td>bipede</td>\n",
       "      <td>1</td>\n",
       "    </tr>\n",
       "    <tr>\n",
       "      <th>3</th>\n",
       "      <td>leao</td>\n",
       "      <td>quadrupede</td>\n",
       "      <td>0</td>\n",
       "    </tr>\n",
       "    <tr>\n",
       "      <th>4</th>\n",
       "      <td>ser humano</td>\n",
       "      <td>bipede</td>\n",
       "      <td>0</td>\n",
       "    </tr>\n",
       "    <tr>\n",
       "      <th>5</th>\n",
       "      <td>cachorro</td>\n",
       "      <td>quadrupede</td>\n",
       "      <td>0</td>\n",
       "    </tr>\n",
       "    <tr>\n",
       "      <th>6</th>\n",
       "      <td>gato</td>\n",
       "      <td>quadrupede</td>\n",
       "      <td>0</td>\n",
       "    </tr>\n",
       "    <tr>\n",
       "      <th>7</th>\n",
       "      <td>ser humano</td>\n",
       "      <td>bipede</td>\n",
       "      <td>0</td>\n",
       "    </tr>\n",
       "    <tr>\n",
       "      <th>8</th>\n",
       "      <td>elefante</td>\n",
       "      <td>quadrupede</td>\n",
       "      <td>0</td>\n",
       "    </tr>\n",
       "    <tr>\n",
       "      <th>9</th>\n",
       "      <td>pardal</td>\n",
       "      <td>bipede</td>\n",
       "      <td>1</td>\n",
       "    </tr>\n",
       "    <tr>\n",
       "      <th>10</th>\n",
       "      <td>macaco</td>\n",
       "      <td>bipede</td>\n",
       "      <td>0</td>\n",
       "    </tr>\n",
       "    <tr>\n",
       "      <th>11</th>\n",
       "      <td>cachorro</td>\n",
       "      <td>quadrupede</td>\n",
       "      <td>0</td>\n",
       "    </tr>\n",
       "  </tbody>\n",
       "</table>\n",
       "</div>"
      ],
      "text/plain": [
       "        animal   locomocao  target\n",
       "0     cachorro  quadrupede       0\n",
       "1     elefante  quadrupede       0\n",
       "2      galinha      bipede       1\n",
       "3         leao  quadrupede       0\n",
       "4   ser humano      bipede       0\n",
       "5     cachorro  quadrupede       0\n",
       "6         gato  quadrupede       0\n",
       "7   ser humano      bipede       0\n",
       "8     elefante  quadrupede       0\n",
       "9       pardal      bipede       1\n",
       "10      macaco      bipede       0\n",
       "11    cachorro  quadrupede       0"
      ]
     },
     "execution_count": 8,
     "metadata": {},
     "output_type": "execute_result"
    }
   ],
   "source": [
    "df"
   ]
  },
  {
   "cell_type": "markdown",
   "id": "b7bd2dd2-6d53-46a3-b417-4b83105ab57e",
   "metadata": {},
   "source": [
    "### One Hot Encoding\n"
   ]
  },
  {
   "cell_type": "code",
   "execution_count": 3,
   "id": "db9d401e-7f1d-4a4c-98b9-4f52b28ac037",
   "metadata": {},
   "outputs": [],
   "source": [
    "X_train, X_test, y_train, y_test = train_test_split(df.drop('target', axis=1), df['target'], test_size=0.2, random_state=42)\n"
   ]
  },
  {
   "cell_type": "code",
   "execution_count": 4,
   "id": "27555ae3-a66a-4e89-951d-84cc3ff3a65d",
   "metadata": {},
   "outputs": [
    {
     "data": {
      "text/html": [
       "<div>\n",
       "<style scoped>\n",
       "    .dataframe tbody tr th:only-of-type {\n",
       "        vertical-align: middle;\n",
       "    }\n",
       "\n",
       "    .dataframe tbody tr th {\n",
       "        vertical-align: top;\n",
       "    }\n",
       "\n",
       "    .dataframe thead th {\n",
       "        text-align: right;\n",
       "    }\n",
       "</style>\n",
       "<table border=\"1\" class=\"dataframe\">\n",
       "  <thead>\n",
       "    <tr style=\"text-align: right;\">\n",
       "      <th></th>\n",
       "      <th>animal</th>\n",
       "      <th>locomocao</th>\n",
       "    </tr>\n",
       "  </thead>\n",
       "  <tbody>\n",
       "    <tr>\n",
       "      <th>8</th>\n",
       "      <td>elefante</td>\n",
       "      <td>quadrupede</td>\n",
       "    </tr>\n",
       "    <tr>\n",
       "      <th>5</th>\n",
       "      <td>cachorro</td>\n",
       "      <td>quadrupede</td>\n",
       "    </tr>\n",
       "    <tr>\n",
       "      <th>2</th>\n",
       "      <td>galinha</td>\n",
       "      <td>bipede</td>\n",
       "    </tr>\n",
       "    <tr>\n",
       "      <th>1</th>\n",
       "      <td>elefante</td>\n",
       "      <td>quadrupede</td>\n",
       "    </tr>\n",
       "    <tr>\n",
       "      <th>11</th>\n",
       "      <td>cachorro</td>\n",
       "      <td>quadrupede</td>\n",
       "    </tr>\n",
       "    <tr>\n",
       "      <th>4</th>\n",
       "      <td>ser humano</td>\n",
       "      <td>bipede</td>\n",
       "    </tr>\n",
       "    <tr>\n",
       "      <th>7</th>\n",
       "      <td>ser humano</td>\n",
       "      <td>bipede</td>\n",
       "    </tr>\n",
       "    <tr>\n",
       "      <th>3</th>\n",
       "      <td>leao</td>\n",
       "      <td>quadrupede</td>\n",
       "    </tr>\n",
       "    <tr>\n",
       "      <th>6</th>\n",
       "      <td>gato</td>\n",
       "      <td>quadrupede</td>\n",
       "    </tr>\n",
       "  </tbody>\n",
       "</table>\n",
       "</div>"
      ],
      "text/plain": [
       "        animal   locomocao\n",
       "8     elefante  quadrupede\n",
       "5     cachorro  quadrupede\n",
       "2      galinha      bipede\n",
       "1     elefante  quadrupede\n",
       "11    cachorro  quadrupede\n",
       "4   ser humano      bipede\n",
       "7   ser humano      bipede\n",
       "3         leao  quadrupede\n",
       "6         gato  quadrupede"
      ]
     },
     "execution_count": 4,
     "metadata": {},
     "output_type": "execute_result"
    }
   ],
   "source": [
    "X_train"
   ]
  },
  {
   "cell_type": "code",
   "execution_count": 6,
   "id": "b2cc20af-bc22-4b34-9b7b-73d19dd680c9",
   "metadata": {},
   "outputs": [
    {
     "data": {
      "text/html": [
       "<div>\n",
       "<style scoped>\n",
       "    .dataframe tbody tr th:only-of-type {\n",
       "        vertical-align: middle;\n",
       "    }\n",
       "\n",
       "    .dataframe tbody tr th {\n",
       "        vertical-align: top;\n",
       "    }\n",
       "\n",
       "    .dataframe thead th {\n",
       "        text-align: right;\n",
       "    }\n",
       "</style>\n",
       "<table border=\"1\" class=\"dataframe\">\n",
       "  <thead>\n",
       "    <tr style=\"text-align: right;\">\n",
       "      <th></th>\n",
       "      <th>animal</th>\n",
       "      <th>locomocao</th>\n",
       "    </tr>\n",
       "  </thead>\n",
       "  <tbody>\n",
       "    <tr>\n",
       "      <th>10</th>\n",
       "      <td>macaco</td>\n",
       "      <td>bipede</td>\n",
       "    </tr>\n",
       "    <tr>\n",
       "      <th>9</th>\n",
       "      <td>pardal</td>\n",
       "      <td>bipede</td>\n",
       "    </tr>\n",
       "    <tr>\n",
       "      <th>0</th>\n",
       "      <td>cachorro</td>\n",
       "      <td>quadrupede</td>\n",
       "    </tr>\n",
       "  </tbody>\n",
       "</table>\n",
       "</div>"
      ],
      "text/plain": [
       "      animal   locomocao\n",
       "10    macaco      bipede\n",
       "9     pardal      bipede\n",
       "0   cachorro  quadrupede"
      ]
     },
     "execution_count": 6,
     "metadata": {},
     "output_type": "execute_result"
    }
   ],
   "source": [
    "X_test"
   ]
  },
  {
   "cell_type": "code",
   "execution_count": 5,
   "id": "de6545b4-f772-40a9-996e-989527a640fc",
   "metadata": {},
   "outputs": [
    {
     "data": {
      "text/plain": [
       "8     0\n",
       "5     0\n",
       "2     1\n",
       "1     0\n",
       "11    0\n",
       "4     0\n",
       "7     0\n",
       "3     0\n",
       "6     0\n",
       "Name: target, dtype: int64"
      ]
     },
     "execution_count": 5,
     "metadata": {},
     "output_type": "execute_result"
    }
   ],
   "source": [
    "y_train"
   ]
  },
  {
   "cell_type": "code",
   "execution_count": 7,
   "id": "b596b53e-d6a4-4023-a3da-eccd2e514488",
   "metadata": {},
   "outputs": [
    {
     "data": {
      "text/plain": [
       "10    0\n",
       "9     1\n",
       "0     0\n",
       "Name: target, dtype: int64"
      ]
     },
     "execution_count": 7,
     "metadata": {},
     "output_type": "execute_result"
    }
   ],
   "source": [
    "y_test"
   ]
  },
  {
   "cell_type": "code",
   "execution_count": 6,
   "id": "5cdde763-81c8-42bf-9671-7cf463050d5f",
   "metadata": {},
   "outputs": [],
   "source": [
    "encoder = OneHotEncoder(cols=['animal', 'locomocao'])\n"
   ]
  },
  {
   "cell_type": "code",
   "execution_count": 7,
   "id": "be3d7683-ba01-41b4-9f4a-d0363f8de6c5",
   "metadata": {},
   "outputs": [],
   "source": [
    "# Treino\n",
    "encoder.fit(X_train)\n",
    "X_train_encoded = encoder.transform(X_train)\n",
    "\n",
    "# Teste\n",
    "X_test_encoded = encoder.transform(X_test)"
   ]
  },
  {
   "cell_type": "code",
   "execution_count": null,
   "id": "10f01cec-c556-4124-b3bf-afffc5b8b998",
   "metadata": {},
   "outputs": [],
   "source": []
  },
  {
   "cell_type": "markdown",
   "id": "28a78dc4-d926-4724-88f9-9c2099b3e597",
   "metadata": {},
   "source": [
    "### Label Encoding\n"
   ]
  },
  {
   "cell_type": "code",
   "execution_count": 5,
   "id": "bd3801ca-0fbc-4122-94d0-7a26ff7e68b0",
   "metadata": {},
   "outputs": [],
   "source": [
    "X_train, X_test, y_train, y_test = train_test_split(df.drop('target', axis=1), df['target'], test_size=0.2, random_state=42)\n"
   ]
  },
  {
   "cell_type": "code",
   "execution_count": 6,
   "id": "6bf94efa-55c9-4520-b230-b17579677dc5",
   "metadata": {},
   "outputs": [],
   "source": [
    "encoder = OrdinalEncoder(cols=['animal', 'locomocao'])\n"
   ]
  },
  {
   "cell_type": "code",
   "execution_count": 7,
   "id": "f045c328-bcd1-455a-b5d6-eb6fbb62f2f6",
   "metadata": {},
   "outputs": [],
   "source": [
    "# Treino\n",
    "encoder.fit(X_train)\n",
    "X_train_encoded = encoder.transform(X_train)\n",
    "\n",
    "# Teste\n",
    "X_test_encoded = encoder.transform(X_test)"
   ]
  },
  {
   "cell_type": "markdown",
   "id": "7936bbb1-eb83-43e9-aff6-739619e5373a",
   "metadata": {},
   "source": [
    "### Binary Encoding\n"
   ]
  },
  {
   "cell_type": "code",
   "execution_count": 5,
   "id": "b9d2c3b0-46cb-4bd5-afc4-b7fda4504419",
   "metadata": {},
   "outputs": [],
   "source": [
    "X_train, X_test, y_train, y_test = train_test_split(df.drop('target', axis=1), df['target'], test_size=0.2, random_state=42)\n"
   ]
  },
  {
   "cell_type": "code",
   "execution_count": 6,
   "id": "32a14bcb-f8c6-4cce-bc03-fd0eca9dce28",
   "metadata": {},
   "outputs": [],
   "source": [
    "encoder = BinaryEncoder(cols=['animal', 'locomocao'])\n"
   ]
  },
  {
   "cell_type": "code",
   "execution_count": 7,
   "id": "8b725fdc-66fc-45e0-8b87-57ab2fb417f2",
   "metadata": {},
   "outputs": [],
   "source": [
    "# Treino\n",
    "encoder.fit(X_train)\n",
    "X_train_encoded = encoder.transform(X_train)\n",
    "\n",
    "# Teste\n",
    "X_test_encoded = encoder.transform(X_test)"
   ]
  },
  {
   "cell_type": "markdown",
   "id": "705f5939-7574-48f5-a85c-e8a19e291c1f",
   "metadata": {},
   "source": [
    "### Helmert Encoding\n"
   ]
  },
  {
   "cell_type": "code",
   "execution_count": 5,
   "id": "a1429cd0-5bb8-48bb-b14c-e4aca6ffaa81",
   "metadata": {},
   "outputs": [],
   "source": [
    "X_train, X_test, y_train, y_test = train_test_split(df.drop('target', axis=1), df['target'], test_size=0.2, random_state=42)\n"
   ]
  },
  {
   "cell_type": "code",
   "execution_count": 6,
   "id": "5ae8ee23-c35c-4fea-b3bc-ce1e4d9e6802",
   "metadata": {},
   "outputs": [],
   "source": [
    "encoder = HelmertEncoder(cols=['animal', 'locomocao'])\n"
   ]
  },
  {
   "cell_type": "code",
   "execution_count": 7,
   "id": "62822eee-2222-4112-9677-3957ec495813",
   "metadata": {},
   "outputs": [],
   "source": [
    "# Treino\n",
    "encoder.fit(X_train)\n",
    "X_train_encoded = encoder.transform(X_train)\n",
    "\n",
    "# Teste\n",
    "X_test_encoded = encoder.transform(X_test)"
   ]
  },
  {
   "cell_type": "markdown",
   "id": "3aa8c236-a247-47f5-b440-0c6c8d7105e7",
   "metadata": {},
   "source": [
    "### Hashing Encoding\n"
   ]
  },
  {
   "cell_type": "code",
   "execution_count": 8,
   "id": "fea9687c-2c21-4d65-bd86-8080b7404e1d",
   "metadata": {},
   "outputs": [],
   "source": [
    "X_train, X_test, y_train, y_test = train_test_split(df.drop('target', axis=1), df['target'], test_size=0.2, random_state=42)\n"
   ]
  },
  {
   "cell_type": "code",
   "execution_count": 12,
   "id": "3c5bc496-4307-485c-abac-5e423ae39957",
   "metadata": {},
   "outputs": [],
   "source": [
    "encoder = ce.HashingEncoder(cols=['animal', 'locomocao'])\n"
   ]
  },
  {
   "cell_type": "code",
   "execution_count": 13,
   "id": "0a9744fd-5a70-491a-924f-98ce6a8ab1f2",
   "metadata": {},
   "outputs": [],
   "source": [
    "# Treino\n",
    "encoder.fit(X_train)\n",
    "X_train_encoded = encoder.transform(X_train)\n",
    "\n",
    "# Teste\n",
    "X_test_encoded = encoder.transform(X_test)"
   ]
  },
  {
   "cell_type": "code",
   "execution_count": 14,
   "id": "d090f07d-beae-47dc-b3af-2ef9a28bd351",
   "metadata": {},
   "outputs": [
    {
     "data": {
      "text/html": [
       "<div>\n",
       "<style scoped>\n",
       "    .dataframe tbody tr th:only-of-type {\n",
       "        vertical-align: middle;\n",
       "    }\n",
       "\n",
       "    .dataframe tbody tr th {\n",
       "        vertical-align: top;\n",
       "    }\n",
       "\n",
       "    .dataframe thead th {\n",
       "        text-align: right;\n",
       "    }\n",
       "</style>\n",
       "<table border=\"1\" class=\"dataframe\">\n",
       "  <thead>\n",
       "    <tr style=\"text-align: right;\">\n",
       "      <th></th>\n",
       "      <th>col_0</th>\n",
       "      <th>col_1</th>\n",
       "      <th>col_2</th>\n",
       "      <th>col_3</th>\n",
       "      <th>col_4</th>\n",
       "      <th>col_5</th>\n",
       "      <th>col_6</th>\n",
       "      <th>col_7</th>\n",
       "    </tr>\n",
       "  </thead>\n",
       "  <tbody>\n",
       "    <tr>\n",
       "      <th>8</th>\n",
       "      <td>1</td>\n",
       "      <td>0</td>\n",
       "      <td>0</td>\n",
       "      <td>0</td>\n",
       "      <td>1</td>\n",
       "      <td>0</td>\n",
       "      <td>0</td>\n",
       "      <td>0</td>\n",
       "    </tr>\n",
       "    <tr>\n",
       "      <th>5</th>\n",
       "      <td>0</td>\n",
       "      <td>0</td>\n",
       "      <td>1</td>\n",
       "      <td>0</td>\n",
       "      <td>1</td>\n",
       "      <td>0</td>\n",
       "      <td>0</td>\n",
       "      <td>0</td>\n",
       "    </tr>\n",
       "    <tr>\n",
       "      <th>2</th>\n",
       "      <td>1</td>\n",
       "      <td>0</td>\n",
       "      <td>0</td>\n",
       "      <td>0</td>\n",
       "      <td>0</td>\n",
       "      <td>1</td>\n",
       "      <td>0</td>\n",
       "      <td>0</td>\n",
       "    </tr>\n",
       "    <tr>\n",
       "      <th>1</th>\n",
       "      <td>1</td>\n",
       "      <td>0</td>\n",
       "      <td>0</td>\n",
       "      <td>0</td>\n",
       "      <td>1</td>\n",
       "      <td>0</td>\n",
       "      <td>0</td>\n",
       "      <td>0</td>\n",
       "    </tr>\n",
       "    <tr>\n",
       "      <th>11</th>\n",
       "      <td>0</td>\n",
       "      <td>0</td>\n",
       "      <td>1</td>\n",
       "      <td>0</td>\n",
       "      <td>1</td>\n",
       "      <td>0</td>\n",
       "      <td>0</td>\n",
       "      <td>0</td>\n",
       "    </tr>\n",
       "    <tr>\n",
       "      <th>4</th>\n",
       "      <td>2</td>\n",
       "      <td>0</td>\n",
       "      <td>0</td>\n",
       "      <td>0</td>\n",
       "      <td>0</td>\n",
       "      <td>0</td>\n",
       "      <td>0</td>\n",
       "      <td>0</td>\n",
       "    </tr>\n",
       "    <tr>\n",
       "      <th>7</th>\n",
       "      <td>2</td>\n",
       "      <td>0</td>\n",
       "      <td>0</td>\n",
       "      <td>0</td>\n",
       "      <td>0</td>\n",
       "      <td>0</td>\n",
       "      <td>0</td>\n",
       "      <td>0</td>\n",
       "    </tr>\n",
       "    <tr>\n",
       "      <th>3</th>\n",
       "      <td>1</td>\n",
       "      <td>0</td>\n",
       "      <td>0</td>\n",
       "      <td>0</td>\n",
       "      <td>1</td>\n",
       "      <td>0</td>\n",
       "      <td>0</td>\n",
       "      <td>0</td>\n",
       "    </tr>\n",
       "    <tr>\n",
       "      <th>6</th>\n",
       "      <td>0</td>\n",
       "      <td>0</td>\n",
       "      <td>0</td>\n",
       "      <td>1</td>\n",
       "      <td>1</td>\n",
       "      <td>0</td>\n",
       "      <td>0</td>\n",
       "      <td>0</td>\n",
       "    </tr>\n",
       "  </tbody>\n",
       "</table>\n",
       "</div>"
      ],
      "text/plain": [
       "    col_0  col_1  col_2  col_3  col_4  col_5  col_6  col_7\n",
       "8       1      0      0      0      1      0      0      0\n",
       "5       0      0      1      0      1      0      0      0\n",
       "2       1      0      0      0      0      1      0      0\n",
       "1       1      0      0      0      1      0      0      0\n",
       "11      0      0      1      0      1      0      0      0\n",
       "4       2      0      0      0      0      0      0      0\n",
       "7       2      0      0      0      0      0      0      0\n",
       "3       1      0      0      0      1      0      0      0\n",
       "6       0      0      0      1      1      0      0      0"
      ]
     },
     "execution_count": 14,
     "metadata": {},
     "output_type": "execute_result"
    }
   ],
   "source": [
    "X_train_encoded"
   ]
  },
  {
   "cell_type": "code",
   "execution_count": null,
   "id": "02cf39fb-f8fd-4d1b-a62f-f2e6ba2ef2c8",
   "metadata": {},
   "outputs": [],
   "source": [
    "\n"
   ]
  }
 ],
 "metadata": {
  "kernelspec": {
   "display_name": "Python 3 (ipykernel)",
   "language": "python",
   "name": "python3"
  },
  "language_info": {
   "codemirror_mode": {
    "name": "ipython",
    "version": 3
   },
   "file_extension": ".py",
   "mimetype": "text/x-python",
   "name": "python",
   "nbconvert_exporter": "python",
   "pygments_lexer": "ipython3",
   "version": "3.10.12"
  }
 },
 "nbformat": 4,
 "nbformat_minor": 5
}
